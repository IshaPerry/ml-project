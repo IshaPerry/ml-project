{
 "cells": [
  {
   "cell_type": "code",
   "execution_count": 8,
   "metadata": {},
   "outputs": [
    {
     "name": "stdout",
     "output_type": "stream",
     "text": [
      "Requirement already satisfied: nbformat in /opt/homebrew/Caskroom/miniconda/base/envs/ml_env/lib/python3.11/site-packages (5.9.2)\n",
      "Requirement already satisfied: fastjsonschema in /opt/homebrew/Caskroom/miniconda/base/envs/ml_env/lib/python3.11/site-packages (from nbformat) (2.18.1)\n",
      "Requirement already satisfied: jsonschema>=2.6 in /opt/homebrew/Caskroom/miniconda/base/envs/ml_env/lib/python3.11/site-packages (from nbformat) (4.17.3)\n",
      "Requirement already satisfied: jupyter-core in /opt/homebrew/Caskroom/miniconda/base/envs/ml_env/lib/python3.11/site-packages (from nbformat) (5.3.0)\n",
      "Requirement already satisfied: traitlets>=5.1 in /opt/homebrew/Caskroom/miniconda/base/envs/ml_env/lib/python3.11/site-packages (from nbformat) (5.7.1)\n",
      "Requirement already satisfied: attrs>=17.4.0 in /opt/homebrew/Caskroom/miniconda/base/envs/ml_env/lib/python3.11/site-packages (from jsonschema>=2.6->nbformat) (23.1.0)\n",
      "Requirement already satisfied: pyrsistent!=0.17.0,!=0.17.1,!=0.17.2,>=0.14.0 in /opt/homebrew/Caskroom/miniconda/base/envs/ml_env/lib/python3.11/site-packages (from jsonschema>=2.6->nbformat) (0.18.0)\n",
      "Requirement already satisfied: platformdirs>=2.5 in /opt/homebrew/Caskroom/miniconda/base/envs/ml_env/lib/python3.11/site-packages (from jupyter-core->nbformat) (3.10.0)\n",
      "Note: you may need to restart the kernel to use updated packages.\n",
      "Requirement already satisfied: import_ipynb in /opt/homebrew/Caskroom/miniconda/base/envs/ml_env/lib/python3.11/site-packages (0.1.4)\n",
      "Requirement already satisfied: IPython in /opt/homebrew/Caskroom/miniconda/base/envs/ml_env/lib/python3.11/site-packages (from import_ipynb) (8.15.0)\n",
      "Requirement already satisfied: nbformat in /opt/homebrew/Caskroom/miniconda/base/envs/ml_env/lib/python3.11/site-packages (from import_ipynb) (5.9.2)\n",
      "Requirement already satisfied: backcall in /opt/homebrew/Caskroom/miniconda/base/envs/ml_env/lib/python3.11/site-packages (from IPython->import_ipynb) (0.2.0)\n",
      "Requirement already satisfied: decorator in /opt/homebrew/Caskroom/miniconda/base/envs/ml_env/lib/python3.11/site-packages (from IPython->import_ipynb) (5.1.1)\n",
      "Requirement already satisfied: jedi>=0.16 in /opt/homebrew/Caskroom/miniconda/base/envs/ml_env/lib/python3.11/site-packages (from IPython->import_ipynb) (0.18.1)\n",
      "Requirement already satisfied: matplotlib-inline in /opt/homebrew/Caskroom/miniconda/base/envs/ml_env/lib/python3.11/site-packages (from IPython->import_ipynb) (0.1.6)\n",
      "Requirement already satisfied: pickleshare in /opt/homebrew/Caskroom/miniconda/base/envs/ml_env/lib/python3.11/site-packages (from IPython->import_ipynb) (0.7.5)\n",
      "Requirement already satisfied: prompt-toolkit!=3.0.37,<3.1.0,>=3.0.30 in /opt/homebrew/Caskroom/miniconda/base/envs/ml_env/lib/python3.11/site-packages (from IPython->import_ipynb) (3.0.36)\n",
      "Requirement already satisfied: pygments>=2.4.0 in /opt/homebrew/Caskroom/miniconda/base/envs/ml_env/lib/python3.11/site-packages (from IPython->import_ipynb) (2.15.1)\n",
      "Requirement already satisfied: stack-data in /opt/homebrew/Caskroom/miniconda/base/envs/ml_env/lib/python3.11/site-packages (from IPython->import_ipynb) (0.2.0)\n",
      "Requirement already satisfied: traitlets>=5 in /opt/homebrew/Caskroom/miniconda/base/envs/ml_env/lib/python3.11/site-packages (from IPython->import_ipynb) (5.7.1)\n",
      "Requirement already satisfied: pexpect>4.3 in /opt/homebrew/Caskroom/miniconda/base/envs/ml_env/lib/python3.11/site-packages (from IPython->import_ipynb) (4.8.0)\n",
      "Requirement already satisfied: appnope in /opt/homebrew/Caskroom/miniconda/base/envs/ml_env/lib/python3.11/site-packages (from IPython->import_ipynb) (0.1.2)\n",
      "Requirement already satisfied: fastjsonschema in /opt/homebrew/Caskroom/miniconda/base/envs/ml_env/lib/python3.11/site-packages (from nbformat->import_ipynb) (2.18.1)\n",
      "Requirement already satisfied: jsonschema>=2.6 in /opt/homebrew/Caskroom/miniconda/base/envs/ml_env/lib/python3.11/site-packages (from nbformat->import_ipynb) (4.17.3)\n",
      "Requirement already satisfied: jupyter-core in /opt/homebrew/Caskroom/miniconda/base/envs/ml_env/lib/python3.11/site-packages (from nbformat->import_ipynb) (5.3.0)\n",
      "Requirement already satisfied: parso<0.9.0,>=0.8.0 in /opt/homebrew/Caskroom/miniconda/base/envs/ml_env/lib/python3.11/site-packages (from jedi>=0.16->IPython->import_ipynb) (0.8.3)\n",
      "Requirement already satisfied: attrs>=17.4.0 in /opt/homebrew/Caskroom/miniconda/base/envs/ml_env/lib/python3.11/site-packages (from jsonschema>=2.6->nbformat->import_ipynb) (23.1.0)\n",
      "Requirement already satisfied: pyrsistent!=0.17.0,!=0.17.1,!=0.17.2,>=0.14.0 in /opt/homebrew/Caskroom/miniconda/base/envs/ml_env/lib/python3.11/site-packages (from jsonschema>=2.6->nbformat->import_ipynb) (0.18.0)\n",
      "Requirement already satisfied: ptyprocess>=0.5 in /opt/homebrew/Caskroom/miniconda/base/envs/ml_env/lib/python3.11/site-packages (from pexpect>4.3->IPython->import_ipynb) (0.7.0)\n",
      "Requirement already satisfied: wcwidth in /opt/homebrew/Caskroom/miniconda/base/envs/ml_env/lib/python3.11/site-packages (from prompt-toolkit!=3.0.37,<3.1.0,>=3.0.30->IPython->import_ipynb) (0.2.5)\n",
      "Requirement already satisfied: platformdirs>=2.5 in /opt/homebrew/Caskroom/miniconda/base/envs/ml_env/lib/python3.11/site-packages (from jupyter-core->nbformat->import_ipynb) (3.10.0)\n",
      "Requirement already satisfied: executing in /opt/homebrew/Caskroom/miniconda/base/envs/ml_env/lib/python3.11/site-packages (from stack-data->IPython->import_ipynb) (0.8.3)\n",
      "Requirement already satisfied: asttokens in /opt/homebrew/Caskroom/miniconda/base/envs/ml_env/lib/python3.11/site-packages (from stack-data->IPython->import_ipynb) (2.0.5)\n",
      "Requirement already satisfied: pure-eval in /opt/homebrew/Caskroom/miniconda/base/envs/ml_env/lib/python3.11/site-packages (from stack-data->IPython->import_ipynb) (0.2.2)\n",
      "Requirement already satisfied: six in /opt/homebrew/Caskroom/miniconda/base/envs/ml_env/lib/python3.11/site-packages (from asttokens->stack-data->IPython->import_ipynb) (1.16.0)\n",
      "Note: you may need to restart the kernel to use updated packages.\n"
     ]
    }
   ],
   "source": [
    "import numpy as np # linear algebra\n",
    "import pandas as pd # data processing, CSV file I/O (e.g. pd.read_csv)\n",
    "import matplotlib.pyplot as plt\n",
    "import cv2  \n",
    "from random import shuffle \n",
    "from tqdm import tqdm \n",
    "from PIL import Image\n",
    "import warnings\n",
    "warnings.filterwarnings('ignore')\n",
    "import os\n",
    "\n",
    "%pip install nbformat\n",
    "%pip install import_ipynb\n",
    "\n",
    "import import_ipynb"
   ]
  },
  {
   "cell_type": "code",
   "execution_count": 11,
   "metadata": {},
   "outputs": [
    {
     "name": "stderr",
     "output_type": "stream",
     "text": [
      "100%|██████████| 50000/50000 [00:22<00:00, 2266.55it/s]\n",
      "100%|██████████| 50000/50000 [00:21<00:00, 2339.16it/s]\n"
     ]
    },
    {
     "data": {
      "image/png": "[encoded data removed]",
      "text/plain": [
       "<Figure size 1000x1000 with 2 Axes>"
      ]
     },
     "metadata": {},
     "output_type": "display_data"
    }
   ],
   "source": [
    "train_fake = '../archive/train/FAKE'\n",
    "train_real = '../archive/train/REAL'\n",
    "test_fake = '../archive/test/FAKE'\n",
    "test_real = '../archive/test/REAL'\n",
    "image_size = 32\n",
    "\n",
    "\n",
    "# Process fake images\n",
    "fake_images = []\n",
    "for image in tqdm(os.listdir(train_fake)): \n",
    "    path = os.path.join(train_fake, image)\n",
    "    img = cv2.imread(path, cv2.IMREAD_COLOR) \n",
    "    img = cv2.resize(img, (image_size, image_size))\n",
    "    norm = np.zeros((800,800))\n",
    "    img = cv2.normalize(img, norm, 0, 255, cv2.NORM_MINMAX)  \n",
    "    fake_images.append(img)\n",
    "\n",
    "# Process real images\n",
    "real_images = []\n",
    "for image2 in tqdm(os.listdir(train_real)): \n",
    "    path = os.path.join(train_real, image2)\n",
    "    img2 = cv2.imread(path, cv2.IMREAD_COLOR) \n",
    "    img2 = cv2.resize(img2, (image_size, image_size))\n",
    "    norm = np.zeros((800,800))\n",
    "    img2 = cv2.normalize(img2, norm, 0, 255, cv2.NORM_MINMAX)\n",
    "    real_images.append(img2)\n",
    "\n",
    "plt.figure(figsize=(10,10))\n",
    "plt.subplot(1, 2, 1)\n",
    "plt.imshow(fake_images[0])  # Display the first fake image\n",
    "plt.axis('off')\n",
    "plt.subplot(1, 2, 2)\n",
    "plt.imshow(real_images[0])  # Display the first real image\n",
    "plt.axis('off')\n",
    "plt.title(\"Real and Fake Images in Color\")\n",
    "plt.show()"
   ]
  },
  {
   "cell_type": "code",
   "execution_count": 16,
   "metadata": {},
   "outputs": [],
   "source": [
    "def train_data():\n",
    "    train_data_fake =[] \n",
    "    train_data_real=[]\n",
    "    for image in tqdm(os.listdir(train_fake)): \n",
    "        path = os.path.join(train_fake, image)\n",
    "        img = cv2.imread(path, cv2.IMREAD_COLOR) \n",
    "        img = cv2.resize(img, (image_size, image_size))\n",
    "        norm = np.zeros((800,800))\n",
    "        img = cv2.normalize(img, norm, 0, 255, cv2.NORM_MINMAX)  \n",
    "        train_data_fake.append(img) \n",
    "    for image2 in tqdm(os.listdir(train_real)): \n",
    "        path = os.path.join(train_real, image2)\n",
    "        img2 = cv2.imread(path, cv2.IMREAD_COLOR) \n",
    "        img2 = cv2.resize(img2, (image_size, image_size))\n",
    "        norm = np.zeros((800,800))\n",
    "        img2 = cv2.normalize(img2, norm, 0, 255, cv2.NORM_MINMAX)\n",
    "        train_data_real.append(img2)\n",
    "    \n",
    "    train_data = np.concatenate((np.asarray(train_data_fake),np.asarray(train_data_real)),axis=0)\n",
    "    return train_data \n",
    "\n",
    "def test_data():\n",
    "    test_data_fake = [] \n",
    "    test_data_real=[]\n",
    "    for image in tqdm(os.listdir(test_fake)): \n",
    "        path = os.path.join(test_fake, image)\n",
    "        img = cv2.imread(path, cv2.IMREAD_COLOR) \n",
    "        img = cv2.resize(img, (image_size, image_size))\n",
    "        norm = np.zeros((800,800))\n",
    "        img = cv2.normalize(img, norm, 0, 255, cv2.NORM_MINMAX)  \n",
    "        test_data_fake.append(img)\n",
    "    for image2 in tqdm(os.listdir(test_real)): \n",
    "        path = os.path.join(test_real, image2)\n",
    "        img2 = cv2.imread(path, cv2.IMREAD_COLOR) \n",
    "        img2 = cv2.resize(img2, (image_size, image_size))\n",
    "        norm = np.zeros((800,800))\n",
    "        img2 = cv2.normalize(img2, norm, 0, 255, cv2.NORM_MINMAX)\n",
    "        test_data_real.append(img2) \n",
    "    \n",
    "    test_data = np.concatenate((np.asarray(test_data_fake),np.asarray(test_data_real)),axis=0) \n",
    "    return test_data "
   ]
  },
  {
   "cell_type": "code",
   "execution_count": 17,
   "metadata": {},
   "outputs": [
    {
     "name": "stderr",
     "output_type": "stream",
     "text": [
      "100%|██████████| 50000/50000 [00:19<00:00, 2574.98it/s]\n",
      "100%|██████████| 50000/50000 [00:19<00:00, 2520.06it/s]\n",
      "100%|██████████| 10000/10000 [00:04<00:00, 2487.40it/s]\n",
      "100%|██████████| 10000/10000 [00:04<00:00, 2481.28it/s]\n"
     ]
    }
   ],
   "source": [
    "train_data = train_data() \n",
    "test_data = test_data()"
   ]
  },
  {
   "cell_type": "code",
   "execution_count": 18,
   "metadata": {},
   "outputs": [
    {
     "name": "stdout",
     "output_type": "stream",
     "text": [
      "X shape:  (120000, 32, 32, 3)\n",
      "Y shape:  (120000, 1)\n"
     ]
    }
   ],
   "source": [
    "x_data = np.concatenate((train_data,test_data),axis=0)\n",
    "x_data = (x_data-np.min(x_data))/(np.max(x_data)-np.min(x_data))\n",
    "\n",
    "z1 = np.zeros(50000)\n",
    "o1 = np.ones(50000)\n",
    "Y_train = np.concatenate((o1, z1), axis=0)\n",
    "z = np.zeros(10000)\n",
    "o = np.ones(10000)\n",
    "Y_test = np.concatenate((o, z), axis=0)\n",
    "\n",
    "y_data = np.concatenate((Y_train,Y_test),axis=0).reshape(x_data.shape[0],1)\n",
    "\n",
    "print(\"X shape: \" , x_data.shape)\n",
    "print(\"Y shape: \" , y_data.shape)"
   ]
  },
  {
   "cell_type": "code",
   "execution_count": 27,
   "metadata": {},
   "outputs": [
    {
     "name": "stdout",
     "output_type": "stream",
     "text": [
      "logistic regression accuracy: 0.6711666666666667\n"
     ]
    }
   ],
   "source": [
    "from sklearn.model_selection import train_test_split\n",
    "x_train, x_test, y_train, y_test = train_test_split(x_data, y_data, test_size=0.15, random_state=42)\n",
    "number_of_train = x_train.shape[0]\n",
    "number_of_test = x_test.shape[0]\n",
    "\n",
    "# Flatten each image in x_train\n",
    "num_samples, width, height, channels = x_train.shape\n",
    "x_train = x_train.reshape(num_samples, -1)  # Flattening each image into a 1D array\n",
    "\n",
    "# Flatten each image in x_train\n",
    "num_samples, width, height, channels = x_test.shape\n",
    "x_test = x_test.reshape(num_samples, -1)  # Flattening each image into a 1D array\n",
    "\n",
    "from sklearn.linear_model import LogisticRegression\n",
    "\n",
    "logreg =  LogisticRegression()\n",
    "results = logreg.fit(x_train, y_train)\n",
    "\n",
    "y_pred = logreg.predict(x_test)\n",
    "\n",
    "score = logreg.score(x_test, y_test)\n",
    "print(\"logistic regression accuracy: \" + str(score))"
   ]
  }
 ],
 "metadata": {
  "kernelspec": {
   "display_name": "ml_env",
   "language": "python",
   "name": "python3"
  },
  "language_info": {
   "codemirror_mode": {
    "name": "ipython",
    "version": 3
   },
   "file_extension": ".py",
   "mimetype": "text/x-python",
   "name": "python",
   "nbconvert_exporter": "python",
   "pygments_lexer": "ipython3",
   "version": "3.11.5"
  }
 },
 "nbformat": 4,
 "nbformat_minor": 2
}
