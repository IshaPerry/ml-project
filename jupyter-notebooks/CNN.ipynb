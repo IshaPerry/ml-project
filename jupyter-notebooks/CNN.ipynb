{
 "cells": [
  {
   "cell_type": "code",
   "execution_count": 35,
   "metadata": {},
   "outputs": [
    {
     "name": "stdout",
     "output_type": "stream",
     "text": [
      "Requirement already satisfied: nbformat in /Users/clairematheny/anaconda3/envs/ml-project-env/lib/python3.11/site-packages (5.9.2)\n",
      "Requirement already satisfied: fastjsonschema in /Users/clairematheny/anaconda3/envs/ml-project-env/lib/python3.11/site-packages (from nbformat) (2.16.2)\n",
      "Requirement already satisfied: jsonschema>=2.6 in /Users/clairematheny/anaconda3/envs/ml-project-env/lib/python3.11/site-packages (from nbformat) (4.19.2)\n",
      "Requirement already satisfied: jupyter-core in /Users/clairematheny/anaconda3/envs/ml-project-env/lib/python3.11/site-packages (from nbformat) (5.3.0)\n",
      "Requirement already satisfied: traitlets>=5.1 in /Users/clairematheny/anaconda3/envs/ml-project-env/lib/python3.11/site-packages (from nbformat) (5.12.0)\n",
      "Requirement already satisfied: attrs>=22.2.0 in /Users/clairematheny/anaconda3/envs/ml-project-env/lib/python3.11/site-packages (from jsonschema>=2.6->nbformat) (23.1.0)\n",
      "Requirement already satisfied: jsonschema-specifications>=2023.03.6 in /Users/clairematheny/anaconda3/envs/ml-project-env/lib/python3.11/site-packages (from jsonschema>=2.6->nbformat) (2023.7.1)\n",
      "Requirement already satisfied: referencing>=0.28.4 in /Users/clairematheny/anaconda3/envs/ml-project-env/lib/python3.11/site-packages (from jsonschema>=2.6->nbformat) (0.30.2)\n",
      "Requirement already satisfied: rpds-py>=0.7.1 in /Users/clairematheny/anaconda3/envs/ml-project-env/lib/python3.11/site-packages (from jsonschema>=2.6->nbformat) (0.10.6)\n",
      "Requirement already satisfied: platformdirs>=2.5 in /Users/clairematheny/anaconda3/envs/ml-project-env/lib/python3.11/site-packages (from jupyter-core->nbformat) (3.10.0)\n",
      "Note: you may need to restart the kernel to use updated packages.\n",
      "Requirement already satisfied: import_ipynb in /Users/clairematheny/anaconda3/envs/ml-project-env/lib/python3.11/site-packages (0.1.4)\n",
      "Requirement already satisfied: IPython in /Users/clairematheny/anaconda3/envs/ml-project-env/lib/python3.11/site-packages (from import_ipynb) (8.16.1)\n",
      "Requirement already satisfied: nbformat in /Users/clairematheny/anaconda3/envs/ml-project-env/lib/python3.11/site-packages (from import_ipynb) (5.9.2)\n",
      "Requirement already satisfied: backcall in /Users/clairematheny/anaconda3/envs/ml-project-env/lib/python3.11/site-packages (from IPython->import_ipynb) (0.2.0)\n",
      "Requirement already satisfied: decorator in /Users/clairematheny/anaconda3/envs/ml-project-env/lib/python3.11/site-packages (from IPython->import_ipynb) (5.1.1)\n",
      "Requirement already satisfied: jedi>=0.16 in /Users/clairematheny/anaconda3/envs/ml-project-env/lib/python3.11/site-packages (from IPython->import_ipynb) (0.19.1)\n",
      "Requirement already satisfied: matplotlib-inline in /Users/clairematheny/anaconda3/envs/ml-project-env/lib/python3.11/site-packages (from IPython->import_ipynb) (0.1.6)\n",
      "Requirement already satisfied: pickleshare in /Users/clairematheny/anaconda3/envs/ml-project-env/lib/python3.11/site-packages (from IPython->import_ipynb) (0.7.5)\n",
      "Requirement already satisfied: prompt-toolkit!=3.0.37,<3.1.0,>=3.0.30 in /Users/clairematheny/anaconda3/envs/ml-project-env/lib/python3.11/site-packages (from IPython->import_ipynb) (3.0.39)\n",
      "Requirement already satisfied: pygments>=2.4.0 in /Users/clairematheny/anaconda3/envs/ml-project-env/lib/python3.11/site-packages (from IPython->import_ipynb) (2.16.1)\n",
      "Requirement already satisfied: stack-data in /Users/clairematheny/anaconda3/envs/ml-project-env/lib/python3.11/site-packages (from IPython->import_ipynb) (0.6.2)\n",
      "Requirement already satisfied: traitlets>=5 in /Users/clairematheny/anaconda3/envs/ml-project-env/lib/python3.11/site-packages (from IPython->import_ipynb) (5.12.0)\n",
      "Requirement already satisfied: pexpect>4.3 in /Users/clairematheny/anaconda3/envs/ml-project-env/lib/python3.11/site-packages (from IPython->import_ipynb) (4.8.0)\n",
      "Requirement already satisfied: appnope in /Users/clairematheny/anaconda3/envs/ml-project-env/lib/python3.11/site-packages (from IPython->import_ipynb) (0.1.3)\n",
      "Requirement already satisfied: fastjsonschema in /Users/clairematheny/anaconda3/envs/ml-project-env/lib/python3.11/site-packages (from nbformat->import_ipynb) (2.16.2)\n",
      "Requirement already satisfied: jsonschema>=2.6 in /Users/clairematheny/anaconda3/envs/ml-project-env/lib/python3.11/site-packages (from nbformat->import_ipynb) (4.19.2)\n",
      "Requirement already satisfied: jupyter-core in /Users/clairematheny/anaconda3/envs/ml-project-env/lib/python3.11/site-packages (from nbformat->import_ipynb) (5.3.0)\n",
      "Requirement already satisfied: parso<0.9.0,>=0.8.3 in /Users/clairematheny/anaconda3/envs/ml-project-env/lib/python3.11/site-packages (from jedi>=0.16->IPython->import_ipynb) (0.8.3)\n",
      "Requirement already satisfied: attrs>=22.2.0 in /Users/clairematheny/anaconda3/envs/ml-project-env/lib/python3.11/site-packages (from jsonschema>=2.6->nbformat->import_ipynb) (23.1.0)\n",
      "Requirement already satisfied: jsonschema-specifications>=2023.03.6 in /Users/clairematheny/anaconda3/envs/ml-project-env/lib/python3.11/site-packages (from jsonschema>=2.6->nbformat->import_ipynb) (2023.7.1)\n",
      "Requirement already satisfied: referencing>=0.28.4 in /Users/clairematheny/anaconda3/envs/ml-project-env/lib/python3.11/site-packages (from jsonschema>=2.6->nbformat->import_ipynb) (0.30.2)\n",
      "Requirement already satisfied: rpds-py>=0.7.1 in /Users/clairematheny/anaconda3/envs/ml-project-env/lib/python3.11/site-packages (from jsonschema>=2.6->nbformat->import_ipynb) (0.10.6)\n",
      "Requirement already satisfied: ptyprocess>=0.5 in /Users/clairematheny/anaconda3/envs/ml-project-env/lib/python3.11/site-packages (from pexpect>4.3->IPython->import_ipynb) (0.7.0)\n",
      "Requirement already satisfied: wcwidth in /Users/clairematheny/anaconda3/envs/ml-project-env/lib/python3.11/site-packages (from prompt-toolkit!=3.0.37,<3.1.0,>=3.0.30->IPython->import_ipynb) (0.2.8)\n",
      "Requirement already satisfied: platformdirs>=2.5 in /Users/clairematheny/anaconda3/envs/ml-project-env/lib/python3.11/site-packages (from jupyter-core->nbformat->import_ipynb) (3.10.0)\n",
      "Requirement already satisfied: executing>=1.2.0 in /Users/clairematheny/anaconda3/envs/ml-project-env/lib/python3.11/site-packages (from stack-data->IPython->import_ipynb) (2.0.1)\n",
      "Requirement already satisfied: asttokens>=2.1.0 in /Users/clairematheny/anaconda3/envs/ml-project-env/lib/python3.11/site-packages (from stack-data->IPython->import_ipynb) (2.4.1)\n",
      "Requirement already satisfied: pure-eval in /Users/clairematheny/anaconda3/envs/ml-project-env/lib/python3.11/site-packages (from stack-data->IPython->import_ipynb) (0.2.2)\n",
      "Requirement already satisfied: six>=1.12.0 in /Users/clairematheny/anaconda3/envs/ml-project-env/lib/python3.11/site-packages (from asttokens>=2.1.0->stack-data->IPython->import_ipynb) (1.16.0)\n",
      "Note: you may need to restart the kernel to use updated packages.\n"
     ]
    }
   ],
   "source": [
    "import pandas as pd\n",
    "import seaborn as sns\n",
    "import numpy as np\n",
    "import matplotlib.pyplot as plt\n",
    "import tensorflow as tf\n",
    "from keras import models\n",
    "from keras import layers\n",
    "from keras.datasets import mnist\n",
    "from keras.utils import to_categorical\n",
    "from keras.models import Sequential\n",
    "from keras.layers import Dense, Conv2D, Flatten\n",
    "\n",
    "%pip install nbformat\n",
    "%pip install import_ipynb\n",
    "\n",
    "import import_ipynb\n",
    "import DataCleaning\n",
    "\n",
    "\n"
   ]
  },
  {
   "cell_type": "code",
   "execution_count": 30,
   "metadata": {},
   "outputs": [],
   "source": [
    "modelGRAY = models.Sequential()\n",
    "# STANDARD LAYERING TECHNIQUE:\n",
    "modelGRAY.add(layers.Conv2D(32, (3, 3), activation='relu', input_shape=(32,32,1)))\n",
    "#32 32 1 FOR DEPTH FOR GRAY - SHOULD BE THREE FOR RGB\n",
    "modelGRAY.add(layers.MaxPooling2D((2, 2)))\n",
    "modelGRAY.add(layers.Conv2D(64, (3, 3), activation='relu'))\n",
    "modelGRAY.add(layers.MaxPooling2D((2, 2)))\n",
    "modelGRAY.add(layers.Conv2D(64, (3, 3), activation='relu'))\n",
    "\n",
    "modelRGB = models.Sequential()\n",
    "# STANDARD LAYERING TECHNIQUE:\n",
    "modelRGB.add(layers.Conv2D(32, (3, 3), activation='relu', input_shape=(32,32,3)))\n",
    "#32 32 1 FOR DEPTH FOR GRAY - SHOULD BE THREE FOR RGB\n",
    "modelRGB.add(layers.MaxPooling2D((2, 2)))\n",
    "modelRGB.add(layers.Conv2D(64, (3, 3), activation='relu'))\n",
    "modelRGB.add(layers.MaxPooling2D((2, 2)))\n",
    "modelRGB.add(layers.Conv2D(64, (3, 3), activation='relu'))"
   ]
  },
  {
   "cell_type": "code",
   "execution_count": 36,
   "metadata": {},
   "outputs": [
    {
     "name": "stdout",
     "output_type": "stream",
     "text": [
      "Model: \"sequential_9\"\n",
      "_________________________________________________________________\n",
      " Layer (type)                Output Shape              Param #   \n",
      "=================================================================\n",
      " conv2d_25 (Conv2D)          (None, 30, 30, 32)        320       \n",
      "                                                                 \n",
      " max_pooling2d_16 (MaxPoolin  (None, 15, 15, 32)       0         \n",
      " g2D)                                                            \n",
      "                                                                 \n",
      " conv2d_26 (Conv2D)          (None, 13, 13, 64)        18496     \n",
      "                                                                 \n",
      " max_pooling2d_17 (MaxPoolin  (None, 6, 6, 64)         0         \n",
      " g2D)                                                            \n",
      "                                                                 \n",
      " conv2d_27 (Conv2D)          (None, 4, 4, 64)          36928     \n",
      "                                                                 \n",
      " flatten_5 (Flatten)         (None, 1024)              0         \n",
      "                                                                 \n",
      " dense_10 (Dense)            (None, 64)                65600     \n",
      "                                                                 \n",
      " dense_11 (Dense)            (None, 10)                650       \n",
      "                                                                 \n",
      "=================================================================\n",
      "Total params: 121,994\n",
      "Trainable params: 121,994\n",
      "Non-trainable params: 0\n",
      "_________________________________________________________________\n",
      "Model: \"sequential_10\"\n",
      "_________________________________________________________________\n",
      " Layer (type)                Output Shape              Param #   \n",
      "=================================================================\n",
      " conv2d_28 (Conv2D)          (None, 30, 30, 32)        896       \n",
      "                                                                 \n",
      " max_pooling2d_18 (MaxPoolin  (None, 15, 15, 32)       0         \n",
      " g2D)                                                            \n",
      "                                                                 \n",
      " conv2d_29 (Conv2D)          (None, 13, 13, 64)        18496     \n",
      "                                                                 \n",
      " max_pooling2d_19 (MaxPoolin  (None, 6, 6, 64)         0         \n",
      " g2D)                                                            \n",
      "                                                                 \n",
      " conv2d_30 (Conv2D)          (None, 4, 4, 64)          36928     \n",
      "                                                                 \n",
      " flatten_6 (Flatten)         (None, 1024)              0         \n",
      "                                                                 \n",
      " dense_12 (Dense)            (None, 64)                65600     \n",
      "                                                                 \n",
      " dense_13 (Dense)            (None, 10)                650       \n",
      "                                                                 \n",
      "=================================================================\n",
      "Total params: 122,570\n",
      "Trainable params: 122,570\n",
      "Non-trainable params: 0\n",
      "_________________________________________________________________\n"
     ]
    }
   ],
   "source": [
    "modelGRAY.summary()\n",
    "modelRGB.summary()"
   ]
  },
  {
   "cell_type": "code",
   "execution_count": 37,
   "metadata": {},
   "outputs": [],
   "source": [
    "modelGRAY.add(layers.Flatten())\n",
    "modelGRAY.add(layers.Dense(64, activation='relu'))\n",
    "modelGRAY.add(layers.Dense(10))\n",
    "\n",
    "modelRGB.add(layers.Flatten())\n",
    "modelRGB.add(layers.Dense(64, activation='relu'))\n",
    "modelRGB.add(layers.Dense(10))"
   ]
  },
  {
   "cell_type": "code",
   "execution_count": 39,
   "metadata": {},
   "outputs": [
    {
     "ename": "AttributeError",
     "evalue": "module 'DataCleaning' has no attribute 'TEST_GENERATOR_RGB'",
     "output_type": "error",
     "traceback": [
      "\u001b[0;31m---------------------------------------------------------------------------\u001b[0m",
      "\u001b[0;31mAttributeError\u001b[0m                            Traceback (most recent call last)",
      "Cell \u001b[0;32mIn[39], line 11\u001b[0m\n\u001b[1;32m      7\u001b[0m modelRGB\u001b[39m.\u001b[39mcompile(optimizer\u001b[39m=\u001b[39m\u001b[39m'\u001b[39m\u001b[39madam\u001b[39m\u001b[39m'\u001b[39m, loss\u001b[39m=\u001b[39mtf\u001b[39m.\u001b[39mkeras\u001b[39m.\u001b[39mlosses\u001b[39m.\u001b[39mSparseCategoricalCrossentropy(from_logits\u001b[39m=\u001b[39m\u001b[39mTrue\u001b[39;00m),\n\u001b[1;32m      8\u001b[0m               metrics\u001b[39m=\u001b[39m[\u001b[39m'\u001b[39m\u001b[39maccuracy\u001b[39m\u001b[39m'\u001b[39m])\n\u001b[1;32m     10\u001b[0m \u001b[39m#DEPTH FRO GRAYSCALE WILL BE ONE AND THREE FOR RGB\u001b[39;00m\n\u001b[0;32m---> 11\u001b[0m history \u001b[39m=\u001b[39m modelRGB\u001b[39m.\u001b[39mfit(DataCleaning\u001b[39m.\u001b[39mTRAIN_GENERATOR_RGB, epochs\u001b[39m=\u001b[39m\u001b[39m1\u001b[39m, validation_data\u001b[39m=\u001b[39mDataCleaning\u001b[39m.\u001b[39;49mTEST_GENERATOR_RGB)\n",
      "\u001b[0;31mAttributeError\u001b[0m: module 'DataCleaning' has no attribute 'TEST_GENERATOR_RGB'"
     ]
    }
   ],
   "source": [
    "# modelGRAY.compile(optimizer='adam', loss=tf.keras.losses.SparseCategoricalCrossentropy(from_logits=True),\n",
    "#               metrics=['accuracy'])\n",
    "\n",
    "# #DEPTH FRO GRAYSCALE WILL BE ONE AND THREE FOR RGB\n",
    "# history = modelGRAY.fit(DataCleaning.TRAIN_GENERATOR_GRAY, epochs=10, validation_data=DataCleaning.TEST_GENERATOR_GRAY)\n",
    "\n",
    "modelRGB.compile(optimizer='adam', loss=tf.keras.losses.SparseCategoricalCrossentropy(from_logits=True),\n",
    "              metrics=['accuracy'])\n",
    "\n",
    "#DEPTH FRO GRAYSCALE WILL BE ONE AND THREE FOR RGB\n",
    "history = modelRGB.fit(DataCleaning.TRAIN_GENERATOR_RGB, epochs=1, validation_data=DataCleaning.TEST_GENERATOR_RGB)"
   ]
  },
  {
   "cell_type": "code",
   "execution_count": 12,
   "metadata": {},
   "outputs": [
    {
     "name": "stderr",
     "output_type": "stream",
     "text": [
      "2023-11-02 12:42:31.958243: I tensorflow/core/common_runtime/executor.cc:1197] [/device:CPU:0] (DEBUG INFO) Executor start aborting (this does not indicate an error and you can ignore this message): INVALID_ARGUMENT: You must feed a value for placeholder tensor 'Placeholder/_0' with dtype int32\n",
      "\t [[{{node Placeholder/_0}}]]\n"
     ]
    },
    {
     "name": "stdout",
     "output_type": "stream",
     "text": [
      "625/625 - 4s - loss: 0.2433 - accuracy: 0.9050 - 4s/epoch - 7ms/step\n"
     ]
    },
    {
     "data": {
      "image/png": "[encoded data removed]",
      "text/plain": [
       "<Figure size 640x480 with 1 Axes>"
      ]
     },
     "metadata": {},
     "output_type": "display_data"
    }
   ],
   "source": [
    "plt.plot(history.history['accuracy'], label='accuracy')\n",
    "plt.plot(history.history['val_accuracy'], label = 'val_accuracy')\n",
    "plt.xlabel('Epoch')\n",
    "plt.ylabel('Accuracy')\n",
    "plt.ylim([0.5, 1])\n",
    "plt.legend(loc='lower right')\n",
    "\n",
    "test_loss, test_acc = modelGRAY.evaluate(DataCleaning.TEST_GENERATOR_GRAY, verbose=2)"
   ]
  },
  {
   "cell_type": "code",
   "execution_count": 13,
   "metadata": {},
   "outputs": [
    {
     "name": "stdout",
     "output_type": "stream",
     "text": [
      "0.9049999713897705\n"
     ]
    }
   ],
   "source": [
    "print(test_acc)"
   ]
  }
 ],
 "metadata": {
  "kernelspec": {
   "display_name": "ml-project-env",
   "language": "python",
   "name": "python3"
  },
  "language_info": {
   "codemirror_mode": {
    "name": "ipython",
    "version": 3
   },
   "file_extension": ".py",
   "mimetype": "text/x-python",
   "name": "python",
   "nbconvert_exporter": "python",
   "pygments_lexer": "ipython3",
   "version": "3.11.5"
  },
  "orig_nbformat": 4,
  "vscode": {
   "interpreter": {
    "hash": "a6d08cd0af255144084c0e91e12b63a672c106a117aa0741550e202413ac907d"
   }
  }
 },
 "nbformat": 4,
 "nbformat_minor": 2
}
