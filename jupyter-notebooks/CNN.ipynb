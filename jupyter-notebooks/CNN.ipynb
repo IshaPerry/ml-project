{
 "cells": [
  {
   "cell_type": "code",
   "execution_count": 2,
   "metadata": {},
   "outputs": [
    {
     "name": "stdout",
     "output_type": "stream",
     "text": [
      "Requirement already satisfied: nbformat in /Users/clairematheny/anaconda3/envs/ml-project-env/lib/python3.11/site-packages (5.9.2)\n",
      "Requirement already satisfied: fastjsonschema in /Users/clairematheny/anaconda3/envs/ml-project-env/lib/python3.11/site-packages (from nbformat) (2.16.2)\n",
      "Requirement already satisfied: jsonschema>=2.6 in /Users/clairematheny/anaconda3/envs/ml-project-env/lib/python3.11/site-packages (from nbformat) (4.19.2)\n",
      "Requirement already satisfied: jupyter-core in /Users/clairematheny/anaconda3/envs/ml-project-env/lib/python3.11/site-packages (from nbformat) (5.3.0)\n",
      "Requirement already satisfied: traitlets>=5.1 in /Users/clairematheny/anaconda3/envs/ml-project-env/lib/python3.11/site-packages (from nbformat) (5.12.0)\n",
      "Requirement already satisfied: attrs>=22.2.0 in /Users/clairematheny/anaconda3/envs/ml-project-env/lib/python3.11/site-packages (from jsonschema>=2.6->nbformat) (23.1.0)\n",
      "Requirement already satisfied: jsonschema-specifications>=2023.03.6 in /Users/clairematheny/anaconda3/envs/ml-project-env/lib/python3.11/site-packages (from jsonschema>=2.6->nbformat) (2023.7.1)\n",
      "Requirement already satisfied: referencing>=0.28.4 in /Users/clairematheny/anaconda3/envs/ml-project-env/lib/python3.11/site-packages (from jsonschema>=2.6->nbformat) (0.30.2)\n",
      "Requirement already satisfied: rpds-py>=0.7.1 in /Users/clairematheny/anaconda3/envs/ml-project-env/lib/python3.11/site-packages (from jsonschema>=2.6->nbformat) (0.10.6)\n",
      "Requirement already satisfied: platformdirs>=2.5 in /Users/clairematheny/anaconda3/envs/ml-project-env/lib/python3.11/site-packages (from jupyter-core->nbformat) (3.10.0)\n",
      "Note: you may need to restart the kernel to use updated packages.\n",
      "Requirement already satisfied: import_ipynb in /Users/clairematheny/anaconda3/envs/ml-project-env/lib/python3.11/site-packages (0.1.4)\n",
      "Requirement already satisfied: IPython in /Users/clairematheny/anaconda3/envs/ml-project-env/lib/python3.11/site-packages (from import_ipynb) (8.16.1)\n",
      "Requirement already satisfied: nbformat in /Users/clairematheny/anaconda3/envs/ml-project-env/lib/python3.11/site-packages (from import_ipynb) (5.9.2)\n",
      "Requirement already satisfied: backcall in /Users/clairematheny/anaconda3/envs/ml-project-env/lib/python3.11/site-packages (from IPython->import_ipynb) (0.2.0)\n",
      "Requirement already satisfied: decorator in /Users/clairematheny/anaconda3/envs/ml-project-env/lib/python3.11/site-packages (from IPython->import_ipynb) (5.1.1)\n",
      "Requirement already satisfied: jedi>=0.16 in /Users/clairematheny/anaconda3/envs/ml-project-env/lib/python3.11/site-packages (from IPython->import_ipynb) (0.19.1)\n",
      "Requirement already satisfied: matplotlib-inline in /Users/clairematheny/anaconda3/envs/ml-project-env/lib/python3.11/site-packages (from IPython->import_ipynb) (0.1.6)\n",
      "Requirement already satisfied: pickleshare in /Users/clairematheny/anaconda3/envs/ml-project-env/lib/python3.11/site-packages (from IPython->import_ipynb) (0.7.5)\n",
      "Requirement already satisfied: prompt-toolkit!=3.0.37,<3.1.0,>=3.0.30 in /Users/clairematheny/anaconda3/envs/ml-project-env/lib/python3.11/site-packages (from IPython->import_ipynb) (3.0.39)\n",
      "Requirement already satisfied: pygments>=2.4.0 in /Users/clairematheny/anaconda3/envs/ml-project-env/lib/python3.11/site-packages (from IPython->import_ipynb) (2.16.1)\n",
      "Requirement already satisfied: stack-data in /Users/clairematheny/anaconda3/envs/ml-project-env/lib/python3.11/site-packages (from IPython->import_ipynb) (0.6.2)\n",
      "Requirement already satisfied: traitlets>=5 in /Users/clairematheny/anaconda3/envs/ml-project-env/lib/python3.11/site-packages (from IPython->import_ipynb) (5.12.0)\n",
      "Requirement already satisfied: pexpect>4.3 in /Users/clairematheny/anaconda3/envs/ml-project-env/lib/python3.11/site-packages (from IPython->import_ipynb) (4.8.0)\n",
      "Requirement already satisfied: appnope in /Users/clairematheny/anaconda3/envs/ml-project-env/lib/python3.11/site-packages (from IPython->import_ipynb) (0.1.3)\n",
      "Requirement already satisfied: fastjsonschema in /Users/clairematheny/anaconda3/envs/ml-project-env/lib/python3.11/site-packages (from nbformat->import_ipynb) (2.16.2)\n",
      "Requirement already satisfied: jsonschema>=2.6 in /Users/clairematheny/anaconda3/envs/ml-project-env/lib/python3.11/site-packages (from nbformat->import_ipynb) (4.19.2)\n",
      "Requirement already satisfied: jupyter-core in /Users/clairematheny/anaconda3/envs/ml-project-env/lib/python3.11/site-packages (from nbformat->import_ipynb) (5.3.0)\n",
      "Requirement already satisfied: parso<0.9.0,>=0.8.3 in /Users/clairematheny/anaconda3/envs/ml-project-env/lib/python3.11/site-packages (from jedi>=0.16->IPython->import_ipynb) (0.8.3)\n",
      "Requirement already satisfied: attrs>=22.2.0 in /Users/clairematheny/anaconda3/envs/ml-project-env/lib/python3.11/site-packages (from jsonschema>=2.6->nbformat->import_ipynb) (23.1.0)\n",
      "Requirement already satisfied: jsonschema-specifications>=2023.03.6 in /Users/clairematheny/anaconda3/envs/ml-project-env/lib/python3.11/site-packages (from jsonschema>=2.6->nbformat->import_ipynb) (2023.7.1)\n",
      "Requirement already satisfied: referencing>=0.28.4 in /Users/clairematheny/anaconda3/envs/ml-project-env/lib/python3.11/site-packages (from jsonschema>=2.6->nbformat->import_ipynb) (0.30.2)\n",
      "Requirement already satisfied: rpds-py>=0.7.1 in /Users/clairematheny/anaconda3/envs/ml-project-env/lib/python3.11/site-packages (from jsonschema>=2.6->nbformat->import_ipynb) (0.10.6)\n",
      "Requirement already satisfied: ptyprocess>=0.5 in /Users/clairematheny/anaconda3/envs/ml-project-env/lib/python3.11/site-packages (from pexpect>4.3->IPython->import_ipynb) (0.7.0)\n",
      "Requirement already satisfied: wcwidth in /Users/clairematheny/anaconda3/envs/ml-project-env/lib/python3.11/site-packages (from prompt-toolkit!=3.0.37,<3.1.0,>=3.0.30->IPython->import_ipynb) (0.2.8)\n",
      "Requirement already satisfied: platformdirs>=2.5 in /Users/clairematheny/anaconda3/envs/ml-project-env/lib/python3.11/site-packages (from jupyter-core->nbformat->import_ipynb) (3.10.0)\n",
      "Requirement already satisfied: executing>=1.2.0 in /Users/clairematheny/anaconda3/envs/ml-project-env/lib/python3.11/site-packages (from stack-data->IPython->import_ipynb) (2.0.1)\n",
      "Requirement already satisfied: asttokens>=2.1.0 in /Users/clairematheny/anaconda3/envs/ml-project-env/lib/python3.11/site-packages (from stack-data->IPython->import_ipynb) (2.4.1)\n",
      "Requirement already satisfied: pure-eval in /Users/clairematheny/anaconda3/envs/ml-project-env/lib/python3.11/site-packages (from stack-data->IPython->import_ipynb) (0.2.2)\n",
      "Requirement already satisfied: six>=1.12.0 in /Users/clairematheny/anaconda3/envs/ml-project-env/lib/python3.11/site-packages (from asttokens>=2.1.0->stack-data->IPython->import_ipynb) (1.16.0)\n",
      "Note: you may need to restart the kernel to use updated packages.\n"
     ]
    }
   ],
   "source": [
    "import pandas as pd\n",
    "import seaborn as sns\n",
    "import numpy as np\n",
    "import matplotlib.pyplot as plt\n",
    "import tensorflow as tf\n",
    "from keras import models\n",
    "from keras import layers\n",
    "from keras.datasets import mnist\n",
    "from keras.utils import to_categorical\n",
    "from keras.models import Sequential\n",
    "from keras.layers import Dense, Conv2D, Flatten\n",
    "\n",
    "%pip install nbformat\n",
    "%pip install import_ipynb\n",
    "\n",
    "import import_ipynb\n",
    "import DataCleaning\n",
    "\n"
   ]
  },
  {
   "cell_type": "code",
   "execution_count": 3,
   "metadata": {},
   "outputs": [],
   "source": [
    "modelGRAY = models.Sequential()\n",
    "# STANDARD LAYERING TECHNIQUE:\n",
    "modelGRAY.add(layers.Conv2D(32, (3, 3), activation='relu', input_shape=(32,32,1)))\n",
    "#32 32 1 FOR DEPTH FOR GRAY - SHOULD BE THREE FOR RGB\n",
    "modelGRAY.add(layers.MaxPooling2D((2, 2)))\n",
    "modelGRAY.add(layers.Conv2D(64, (3, 3), activation='relu'))\n",
    "modelGRAY.add(layers.MaxPooling2D((2, 2)))\n",
    "modelGRAY.add(layers.Conv2D(64, (3, 3), activation='relu'))\n",
    "\n",
    "modelRGB = models.Sequential()\n",
    "# STANDARD LAYERING TECHNIQUE:\n",
    "modelRGB.add(layers.Conv2D(32, (3, 3), activation='relu', input_shape=(32,32,3)))\n",
    "#32 32 1 FOR DEPTH FOR GRAY - SHOULD BE THREE FOR RGB\n",
    "modelRGB.add(layers.MaxPooling2D((2, 2)))\n",
    "modelRGB.add(layers.Conv2D(64, (3, 3), activation='relu'))\n",
    "modelRGB.add(layers.MaxPooling2D((2, 2)))\n",
    "modelRGB.add(layers.Conv2D(64, (3, 3), activation='relu'))"
   ]
  },
  {
   "cell_type": "code",
   "execution_count": 4,
   "metadata": {},
   "outputs": [
    {
     "name": "stdout",
     "output_type": "stream",
     "text": [
      "Model: \"sequential\"\n",
      "_________________________________________________________________\n",
      " Layer (type)                Output Shape              Param #   \n",
      "=================================================================\n",
      " conv2d (Conv2D)             (None, 30, 30, 32)        320       \n",
      "                                                                 \n",
      " max_pooling2d (MaxPooling2D  (None, 15, 15, 32)       0         \n",
      " )                                                               \n",
      "                                                                 \n",
      " conv2d_1 (Conv2D)           (None, 13, 13, 64)        18496     \n",
      "                                                                 \n",
      " max_pooling2d_1 (MaxPooling  (None, 6, 6, 64)         0         \n",
      " 2D)                                                             \n",
      "                                                                 \n",
      " conv2d_2 (Conv2D)           (None, 4, 4, 64)          36928     \n",
      "                                                                 \n",
      "=================================================================\n",
      "Total params: 55,744\n",
      "Trainable params: 55,744\n",
      "Non-trainable params: 0\n",
      "_________________________________________________________________\n",
      "Model: \"sequential_1\"\n",
      "_________________________________________________________________\n",
      " Layer (type)                Output Shape              Param #   \n",
      "=================================================================\n",
      " conv2d_3 (Conv2D)           (None, 30, 30, 32)        896       \n",
      "                                                                 \n",
      " max_pooling2d_2 (MaxPooling  (None, 15, 15, 32)       0         \n",
      " 2D)                                                             \n",
      "                                                                 \n",
      " conv2d_4 (Conv2D)           (None, 13, 13, 64)        18496     \n",
      "                                                                 \n",
      " max_pooling2d_3 (MaxPooling  (None, 6, 6, 64)         0         \n",
      " 2D)                                                             \n",
      "                                                                 \n",
      " conv2d_5 (Conv2D)           (None, 4, 4, 64)          36928     \n",
      "                                                                 \n",
      "=================================================================\n",
      "Total params: 56,320\n",
      "Trainable params: 56,320\n",
      "Non-trainable params: 0\n",
      "_________________________________________________________________\n"
     ]
    }
   ],
   "source": [
    "modelGRAY.summary()\n",
    "modelRGB.summary()"
   ]
  },
  {
   "cell_type": "code",
   "execution_count": 5,
   "metadata": {},
   "outputs": [],
   "source": [
    "modelGRAY.add(layers.Flatten())\n",
    "modelGRAY.add(layers.Dense(64, activation='relu'))\n",
    "modelGRAY.add(layers.Dense(10))\n",
    "\n",
    "modelRGB.add(layers.Flatten())\n",
    "modelRGB.add(layers.Dense(64, activation='relu'))\n",
    "modelRGB.add(layers.Dense(10))"
   ]
  },
  {
   "cell_type": "code",
   "execution_count": 13,
   "metadata": {},
   "outputs": [
    {
     "name": "stdout",
     "output_type": "stream",
     "text": [
      "Epoch 1/5\n"
     ]
    },
    {
     "name": "stderr",
     "output_type": "stream",
     "text": [
      "2023-11-02 13:31:29.443685: I tensorflow/core/common_runtime/executor.cc:1197] [/device:CPU:0] (DEBUG INFO) Executor start aborting (this does not indicate an error and you can ignore this message): INVALID_ARGUMENT: You must feed a value for placeholder tensor 'Placeholder/_0' with dtype int32\n",
      "\t [[{{node Placeholder/_0}}]]\n"
     ]
    },
    {
     "ename": "ValueError",
     "evalue": "in user code:\n\n    File \"/Users/clairematheny/anaconda3/envs/ml-project-env/lib/python3.11/site-packages/keras/engine/training.py\", line 1284, in train_function  *\n        return step_function(self, iterator)\n    File \"/Users/clairematheny/anaconda3/envs/ml-project-env/lib/python3.11/site-packages/keras/engine/training.py\", line 1268, in step_function  **\n        outputs = model.distribute_strategy.run(run_step, args=(data,))\n    File \"/Users/clairematheny/anaconda3/envs/ml-project-env/lib/python3.11/site-packages/keras/engine/training.py\", line 1249, in run_step  **\n        outputs = model.train_step(data)\n    File \"/Users/clairematheny/anaconda3/envs/ml-project-env/lib/python3.11/site-packages/keras/engine/training.py\", line 1055, in train_step\n        return self.compute_metrics(x, y, y_pred, sample_weight)\n    File \"/Users/clairematheny/anaconda3/envs/ml-project-env/lib/python3.11/site-packages/keras/engine/training.py\", line 1149, in compute_metrics\n        self.compiled_metrics.update_state(y, y_pred, sample_weight)\n    File \"/Users/clairematheny/anaconda3/envs/ml-project-env/lib/python3.11/site-packages/keras/engine/compile_utils.py\", line 577, in update_state\n        self.build(y_pred, y_true)\n    File \"/Users/clairematheny/anaconda3/envs/ml-project-env/lib/python3.11/site-packages/keras/engine/compile_utils.py\", line 483, in build\n        self._metrics = tf.__internal__.nest.map_structure_up_to(\n    File \"/Users/clairematheny/anaconda3/envs/ml-project-env/lib/python3.11/site-packages/keras/engine/compile_utils.py\", line 631, in _get_metric_objects\n        return [self._get_metric_object(m, y_t, y_p) for m in metrics]\n    File \"/Users/clairematheny/anaconda3/envs/ml-project-env/lib/python3.11/site-packages/keras/engine/compile_utils.py\", line 631, in <listcomp>\n        return [self._get_metric_object(m, y_t, y_p) for m in metrics]\n    File \"/Users/clairematheny/anaconda3/envs/ml-project-env/lib/python3.11/site-packages/keras/engine/compile_utils.py\", line 650, in _get_metric_object\n        metric_obj = metrics_mod.get(metric)\n    File \"/Users/clairematheny/anaconda3/envs/ml-project-env/lib/python3.11/site-packages/keras/metrics/__init__.py\", line 204, in get\n        return deserialize(str(identifier))\n    File \"/Users/clairematheny/anaconda3/envs/ml-project-env/lib/python3.11/site-packages/keras/metrics/__init__.py\", line 158, in deserialize\n        return deserialize_keras_object(\n    File \"/Users/clairematheny/anaconda3/envs/ml-project-env/lib/python3.11/site-packages/keras/saving/legacy/serialization.py\", line 543, in deserialize_keras_object\n        raise ValueError(\n\n    ValueError: Unknown metric function: 'gray_accuracy'. Please ensure you are using a `keras.utils.custom_object_scope` and that this object is included in the scope. See https://www.tensorflow.org/guide/keras/save_and_serialize#registering_the_custom_object for details.\n",
     "output_type": "error",
     "traceback": [
      "\u001b[0;31m---------------------------------------------------------------------------\u001b[0m",
      "\u001b[0;31mValueError\u001b[0m                                Traceback (most recent call last)",
      "Cell \u001b[0;32mIn[13], line 5\u001b[0m\n\u001b[1;32m      1\u001b[0m modelGRAY\u001b[39m.\u001b[39mcompile(optimizer\u001b[39m=\u001b[39m\u001b[39m'\u001b[39m\u001b[39madam\u001b[39m\u001b[39m'\u001b[39m, loss\u001b[39m=\u001b[39mtf\u001b[39m.\u001b[39mkeras\u001b[39m.\u001b[39mlosses\u001b[39m.\u001b[39mSparseCategoricalCrossentropy(from_logits\u001b[39m=\u001b[39m\u001b[39mTrue\u001b[39;00m),\n\u001b[1;32m      2\u001b[0m               metrics\u001b[39m=\u001b[39m[\u001b[39m'\u001b[39m\u001b[39mgray_accuracy\u001b[39m\u001b[39m'\u001b[39m])\n\u001b[1;32m      4\u001b[0m \u001b[39m#DEPTH FRO GRAYSCALE WILL BE ONE AND THREE FOR RGB\u001b[39;00m\n\u001b[0;32m----> 5\u001b[0m history \u001b[39m=\u001b[39m modelGRAY\u001b[39m.\u001b[39;49mfit(DataCleaning\u001b[39m.\u001b[39;49mTRAIN_GENERATOR_GRAY, epochs\u001b[39m=\u001b[39;49m\u001b[39m5\u001b[39;49m, validation_data\u001b[39m=\u001b[39;49mDataCleaning\u001b[39m.\u001b[39;49mTEST_GENERATOR_GRAY)\n\u001b[1;32m      7\u001b[0m modelRGB\u001b[39m.\u001b[39mcompile(optimizer\u001b[39m=\u001b[39m\u001b[39m'\u001b[39m\u001b[39madam\u001b[39m\u001b[39m'\u001b[39m, loss\u001b[39m=\u001b[39mtf\u001b[39m.\u001b[39mkeras\u001b[39m.\u001b[39mlosses\u001b[39m.\u001b[39mSparseCategoricalCrossentropy(from_logits\u001b[39m=\u001b[39m\u001b[39mTrue\u001b[39;00m),\n\u001b[1;32m      8\u001b[0m               metrics\u001b[39m=\u001b[39m[\u001b[39m'\u001b[39m\u001b[39mrgb_accuracy\u001b[39m\u001b[39m'\u001b[39m])\n\u001b[1;32m     10\u001b[0m \u001b[39m#DEPTH FRO GRAYSCALE WILL BE ONE AND THREE FOR RGB\u001b[39;00m\n",
      "File \u001b[0;32m~/anaconda3/envs/ml-project-env/lib/python3.11/site-packages/keras/utils/traceback_utils.py:70\u001b[0m, in \u001b[0;36mfilter_traceback.<locals>.error_handler\u001b[0;34m(*args, **kwargs)\u001b[0m\n\u001b[1;32m     67\u001b[0m     filtered_tb \u001b[39m=\u001b[39m _process_traceback_frames(e\u001b[39m.\u001b[39m__traceback__)\n\u001b[1;32m     68\u001b[0m     \u001b[39m# To get the full stack trace, call:\u001b[39;00m\n\u001b[1;32m     69\u001b[0m     \u001b[39m# `tf.debugging.disable_traceback_filtering()`\u001b[39;00m\n\u001b[0;32m---> 70\u001b[0m     \u001b[39mraise\u001b[39;00m e\u001b[39m.\u001b[39mwith_traceback(filtered_tb) \u001b[39mfrom\u001b[39;00m \u001b[39mNone\u001b[39;00m\n\u001b[1;32m     71\u001b[0m \u001b[39mfinally\u001b[39;00m:\n\u001b[1;32m     72\u001b[0m     \u001b[39mdel\u001b[39;00m filtered_tb\n",
      "File \u001b[0;32m/var/folders/f0/l410_rd94672q9wyvwwlhzrc0000gn/T/__autograph_generated_filezswj_zbv.py:15\u001b[0m, in \u001b[0;36mouter_factory.<locals>.inner_factory.<locals>.tf__train_function\u001b[0;34m(iterator)\u001b[0m\n\u001b[1;32m     13\u001b[0m \u001b[39mtry\u001b[39;00m:\n\u001b[1;32m     14\u001b[0m     do_return \u001b[39m=\u001b[39m \u001b[39mTrue\u001b[39;00m\n\u001b[0;32m---> 15\u001b[0m     retval_ \u001b[39m=\u001b[39m ag__\u001b[39m.\u001b[39mconverted_call(ag__\u001b[39m.\u001b[39mld(step_function), (ag__\u001b[39m.\u001b[39mld(\u001b[39mself\u001b[39m), ag__\u001b[39m.\u001b[39mld(iterator)), \u001b[39mNone\u001b[39;00m, fscope)\n\u001b[1;32m     16\u001b[0m \u001b[39mexcept\u001b[39;00m:\n\u001b[1;32m     17\u001b[0m     do_return \u001b[39m=\u001b[39m \u001b[39mFalse\u001b[39;00m\n",
      "\u001b[0;31mValueError\u001b[0m: in user code:\n\n    File \"/Users/clairematheny/anaconda3/envs/ml-project-env/lib/python3.11/site-packages/keras/engine/training.py\", line 1284, in train_function  *\n        return step_function(self, iterator)\n    File \"/Users/clairematheny/anaconda3/envs/ml-project-env/lib/python3.11/site-packages/keras/engine/training.py\", line 1268, in step_function  **\n        outputs = model.distribute_strategy.run(run_step, args=(data,))\n    File \"/Users/clairematheny/anaconda3/envs/ml-project-env/lib/python3.11/site-packages/keras/engine/training.py\", line 1249, in run_step  **\n        outputs = model.train_step(data)\n    File \"/Users/clairematheny/anaconda3/envs/ml-project-env/lib/python3.11/site-packages/keras/engine/training.py\", line 1055, in train_step\n        return self.compute_metrics(x, y, y_pred, sample_weight)\n    File \"/Users/clairematheny/anaconda3/envs/ml-project-env/lib/python3.11/site-packages/keras/engine/training.py\", line 1149, in compute_metrics\n        self.compiled_metrics.update_state(y, y_pred, sample_weight)\n    File \"/Users/clairematheny/anaconda3/envs/ml-project-env/lib/python3.11/site-packages/keras/engine/compile_utils.py\", line 577, in update_state\n        self.build(y_pred, y_true)\n    File \"/Users/clairematheny/anaconda3/envs/ml-project-env/lib/python3.11/site-packages/keras/engine/compile_utils.py\", line 483, in build\n        self._metrics = tf.__internal__.nest.map_structure_up_to(\n    File \"/Users/clairematheny/anaconda3/envs/ml-project-env/lib/python3.11/site-packages/keras/engine/compile_utils.py\", line 631, in _get_metric_objects\n        return [self._get_metric_object(m, y_t, y_p) for m in metrics]\n    File \"/Users/clairematheny/anaconda3/envs/ml-project-env/lib/python3.11/site-packages/keras/engine/compile_utils.py\", line 631, in <listcomp>\n        return [self._get_metric_object(m, y_t, y_p) for m in metrics]\n    File \"/Users/clairematheny/anaconda3/envs/ml-project-env/lib/python3.11/site-packages/keras/engine/compile_utils.py\", line 650, in _get_metric_object\n        metric_obj = metrics_mod.get(metric)\n    File \"/Users/clairematheny/anaconda3/envs/ml-project-env/lib/python3.11/site-packages/keras/metrics/__init__.py\", line 204, in get\n        return deserialize(str(identifier))\n    File \"/Users/clairematheny/anaconda3/envs/ml-project-env/lib/python3.11/site-packages/keras/metrics/__init__.py\", line 158, in deserialize\n        return deserialize_keras_object(\n    File \"/Users/clairematheny/anaconda3/envs/ml-project-env/lib/python3.11/site-packages/keras/saving/legacy/serialization.py\", line 543, in deserialize_keras_object\n        raise ValueError(\n\n    ValueError: Unknown metric function: 'gray_accuracy'. Please ensure you are using a `keras.utils.custom_object_scope` and that this object is included in the scope. See https://www.tensorflow.org/guide/keras/save_and_serialize#registering_the_custom_object for details.\n"
     ]
    }
   ],
   "source": [
    "modelGRAY.compile(optimizer='adam', loss=tf.keras.losses.SparseCategoricalCrossentropy(from_logits=True),\n",
    "              metrics=['accuracy'])\n",
    "\n",
    "#DEPTH FRO GRAYSCALE WILL BE ONE AND THREE FOR RGB\n",
    "history_gray = modelGRAY.fit(DataCleaning.TRAIN_GENERATOR_GRAY, epochs=5, validation_data=DataCleaning.TEST_GENERATOR_GRAY)\n",
    "\n",
    "modelRGB.compile(optimizer='adam', loss=tf.keras.losses.SparseCategoricalCrossentropy(from_logits=True),\n",
    "              metrics=['accuracy'])\n",
    "\n",
    "#DEPTH FRO GRAYSCALE WILL BE ONE AND THREE FOR RGB\n",
    "history_rgb = modelRGB.fit(DataCleaning.TRAIN_GENERATOR_RGB, epochs=5, validation_data=DataCleaning.TEST_GENERATOR_RGB)"
   ]
  },
  {
   "cell_type": "code",
   "execution_count": 12,
   "metadata": {},
   "outputs": [
    {
     "ename": "KeyError",
     "evalue": "'GRAY_accuracy'",
     "output_type": "error",
     "traceback": [
      "\u001b[0;31m---------------------------------------------------------------------------\u001b[0m",
      "\u001b[0;31mKeyError\u001b[0m                                  Traceback (most recent call last)",
      "Cell \u001b[0;32mIn[12], line 1\u001b[0m\n\u001b[0;32m----> 1\u001b[0m plt\u001b[39m.\u001b[39mplot(history\u001b[39m.\u001b[39;49mhistory[\u001b[39m'\u001b[39;49m\u001b[39mGRAY_accuracy\u001b[39;49m\u001b[39m'\u001b[39;49m], label\u001b[39m=\u001b[39m\u001b[39m'\u001b[39m\u001b[39mGRAY_accuracy\u001b[39m\u001b[39m'\u001b[39m)\n\u001b[1;32m      2\u001b[0m plt\u001b[39m.\u001b[39mplot(history\u001b[39m.\u001b[39mhistory[\u001b[39m'\u001b[39m\u001b[39mGRAY_val_accuracy\u001b[39m\u001b[39m'\u001b[39m], label \u001b[39m=\u001b[39m \u001b[39m'\u001b[39m\u001b[39mGRAY_val_accuracy\u001b[39m\u001b[39m'\u001b[39m)\n\u001b[1;32m      3\u001b[0m plt\u001b[39m.\u001b[39mplot(history\u001b[39m.\u001b[39mhistory[\u001b[39m'\u001b[39m\u001b[39mRGB_accuracy\u001b[39m\u001b[39m'\u001b[39m], label\u001b[39m=\u001b[39m\u001b[39m'\u001b[39m\u001b[39mRBG_accuracy\u001b[39m\u001b[39m'\u001b[39m)\n",
      "\u001b[0;31mKeyError\u001b[0m: 'GRAY_accuracy'"
     ]
    }
   ],
   "source": [
    "plt.plot(history_gray.history['accuracy'], label='GRAY_accuracy')\n",
    "plt.plot(history_gray.history['val_accuracy'], label = 'GRAY_val_accuracy')\n",
    "plt.plot(history_rgb.history['accuracy'], label='RBG_accuracy')\n",
    "plt.plot(history_rgb.history['val_accuracy'], label = 'RBG_val_accuracy')\n",
    "plt.xlabel('Epoch')\n",
    "plt.ylabel('Accuracy')\n",
    "plt.ylim([0.5, 1])\n",
    "plt.legend(loc='lower right')\n",
    "\n",
    "test_rgb_loss, test_rgb_acc = modelRGB.evaluate(DataCleaning.TEST_GENERATOR_RGB, verbose=2)\n",
    "test_gray_loss, test_gray_acc = modelGRAY.evaluate(DataCleaning.TEST_GENERATOR_GRAY, verbose=2)"
   ]
  },
  {
   "cell_type": "code",
   "execution_count": null,
   "metadata": {},
   "outputs": [
    {
     "name": "stdout",
     "output_type": "stream",
     "text": [
      "0.9049999713897705\n"
     ]
    }
   ],
   "source": [
    "print(test_gray_acc)\n",
    "print(test_rgb_acc)"
   ]
  }
 ],
 "metadata": {
  "kernelspec": {
   "display_name": "ml-project-env",
   "language": "python",
   "name": "python3"
  },
  "language_info": {
   "codemirror_mode": {
    "name": "ipython",
    "version": 3
   },
   "file_extension": ".py",
   "mimetype": "text/x-python",
   "name": "python",
   "nbconvert_exporter": "python",
   "pygments_lexer": "ipython3",
   "version": "3.11.5"
  },
  "orig_nbformat": 4,
  "vscode": {
   "interpreter": {
    "hash": "a6d08cd0af255144084c0e91e12b63a672c106a117aa0741550e202413ac907d"
   }
  }
 },
 "nbformat": 4,
 "nbformat_minor": 2
}
