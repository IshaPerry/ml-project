{
 "cells": [
  {
   "cell_type": "code",
   "execution_count": 2,
   "metadata": {},
   "outputs": [
    {
     "name": "stdout",
     "output_type": "stream",
     "text": [
      "Requirement already satisfied: nbformat in /Users/clairematheny/anaconda3/envs/ml-project-env/lib/python3.11/site-packages (5.9.2)\n",
      "Requirement already satisfied: fastjsonschema in /Users/clairematheny/anaconda3/envs/ml-project-env/lib/python3.11/site-packages (from nbformat) (2.16.2)\n",
      "Requirement already satisfied: jsonschema>=2.6 in /Users/clairematheny/anaconda3/envs/ml-project-env/lib/python3.11/site-packages (from nbformat) (4.19.2)\n",
      "Requirement already satisfied: jupyter-core in /Users/clairematheny/anaconda3/envs/ml-project-env/lib/python3.11/site-packages (from nbformat) (5.3.0)\n",
      "Requirement already satisfied: traitlets>=5.1 in /Users/clairematheny/anaconda3/envs/ml-project-env/lib/python3.11/site-packages (from nbformat) (5.12.0)\n",
      "Requirement already satisfied: attrs>=22.2.0 in /Users/clairematheny/anaconda3/envs/ml-project-env/lib/python3.11/site-packages (from jsonschema>=2.6->nbformat) (23.1.0)\n",
      "Requirement already satisfied: jsonschema-specifications>=2023.03.6 in /Users/clairematheny/anaconda3/envs/ml-project-env/lib/python3.11/site-packages (from jsonschema>=2.6->nbformat) (2023.7.1)\n",
      "Requirement already satisfied: referencing>=0.28.4 in /Users/clairematheny/anaconda3/envs/ml-project-env/lib/python3.11/site-packages (from jsonschema>=2.6->nbformat) (0.30.2)\n",
      "Requirement already satisfied: rpds-py>=0.7.1 in /Users/clairematheny/anaconda3/envs/ml-project-env/lib/python3.11/site-packages (from jsonschema>=2.6->nbformat) (0.10.6)\n",
      "Requirement already satisfied: platformdirs>=2.5 in /Users/clairematheny/anaconda3/envs/ml-project-env/lib/python3.11/site-packages (from jupyter-core->nbformat) (3.10.0)\n",
      "Note: you may need to restart the kernel to use updated packages.\n",
      "Requirement already satisfied: import_ipynb in /Users/clairematheny/anaconda3/envs/ml-project-env/lib/python3.11/site-packages (0.1.4)\n",
      "Requirement already satisfied: IPython in /Users/clairematheny/anaconda3/envs/ml-project-env/lib/python3.11/site-packages (from import_ipynb) (8.16.1)\n",
      "Requirement already satisfied: nbformat in /Users/clairematheny/anaconda3/envs/ml-project-env/lib/python3.11/site-packages (from import_ipynb) (5.9.2)\n",
      "Requirement already satisfied: backcall in /Users/clairematheny/anaconda3/envs/ml-project-env/lib/python3.11/site-packages (from IPython->import_ipynb) (0.2.0)\n",
      "Requirement already satisfied: decorator in /Users/clairematheny/anaconda3/envs/ml-project-env/lib/python3.11/site-packages (from IPython->import_ipynb) (5.1.1)\n",
      "Requirement already satisfied: jedi>=0.16 in /Users/clairematheny/anaconda3/envs/ml-project-env/lib/python3.11/site-packages (from IPython->import_ipynb) (0.19.1)\n",
      "Requirement already satisfied: matplotlib-inline in /Users/clairematheny/anaconda3/envs/ml-project-env/lib/python3.11/site-packages (from IPython->import_ipynb) (0.1.6)\n",
      "Requirement already satisfied: pickleshare in /Users/clairematheny/anaconda3/envs/ml-project-env/lib/python3.11/site-packages (from IPython->import_ipynb) (0.7.5)\n",
      "Requirement already satisfied: prompt-toolkit!=3.0.37,<3.1.0,>=3.0.30 in /Users/clairematheny/anaconda3/envs/ml-project-env/lib/python3.11/site-packages (from IPython->import_ipynb) (3.0.39)\n",
      "Requirement already satisfied: pygments>=2.4.0 in /Users/clairematheny/anaconda3/envs/ml-project-env/lib/python3.11/site-packages (from IPython->import_ipynb) (2.16.1)\n",
      "Requirement already satisfied: stack-data in /Users/clairematheny/anaconda3/envs/ml-project-env/lib/python3.11/site-packages (from IPython->import_ipynb) (0.6.2)\n",
      "Requirement already satisfied: traitlets>=5 in /Users/clairematheny/anaconda3/envs/ml-project-env/lib/python3.11/site-packages (from IPython->import_ipynb) (5.12.0)\n",
      "Requirement already satisfied: pexpect>4.3 in /Users/clairematheny/anaconda3/envs/ml-project-env/lib/python3.11/site-packages (from IPython->import_ipynb) (4.8.0)\n",
      "Requirement already satisfied: appnope in /Users/clairematheny/anaconda3/envs/ml-project-env/lib/python3.11/site-packages (from IPython->import_ipynb) (0.1.3)\n",
      "Requirement already satisfied: fastjsonschema in /Users/clairematheny/anaconda3/envs/ml-project-env/lib/python3.11/site-packages (from nbformat->import_ipynb) (2.16.2)\n",
      "Requirement already satisfied: jsonschema>=2.6 in /Users/clairematheny/anaconda3/envs/ml-project-env/lib/python3.11/site-packages (from nbformat->import_ipynb) (4.19.2)\n",
      "Requirement already satisfied: jupyter-core in /Users/clairematheny/anaconda3/envs/ml-project-env/lib/python3.11/site-packages (from nbformat->import_ipynb) (5.3.0)\n",
      "Requirement already satisfied: parso<0.9.0,>=0.8.3 in /Users/clairematheny/anaconda3/envs/ml-project-env/lib/python3.11/site-packages (from jedi>=0.16->IPython->import_ipynb) (0.8.3)\n",
      "Requirement already satisfied: attrs>=22.2.0 in /Users/clairematheny/anaconda3/envs/ml-project-env/lib/python3.11/site-packages (from jsonschema>=2.6->nbformat->import_ipynb) (23.1.0)\n",
      "Requirement already satisfied: jsonschema-specifications>=2023.03.6 in /Users/clairematheny/anaconda3/envs/ml-project-env/lib/python3.11/site-packages (from jsonschema>=2.6->nbformat->import_ipynb) (2023.7.1)\n",
      "Requirement already satisfied: referencing>=0.28.4 in /Users/clairematheny/anaconda3/envs/ml-project-env/lib/python3.11/site-packages (from jsonschema>=2.6->nbformat->import_ipynb) (0.30.2)\n",
      "Requirement already satisfied: rpds-py>=0.7.1 in /Users/clairematheny/anaconda3/envs/ml-project-env/lib/python3.11/site-packages (from jsonschema>=2.6->nbformat->import_ipynb) (0.10.6)\n",
      "Requirement already satisfied: ptyprocess>=0.5 in /Users/clairematheny/anaconda3/envs/ml-project-env/lib/python3.11/site-packages (from pexpect>4.3->IPython->import_ipynb) (0.7.0)\n",
      "Requirement already satisfied: wcwidth in /Users/clairematheny/anaconda3/envs/ml-project-env/lib/python3.11/site-packages (from prompt-toolkit!=3.0.37,<3.1.0,>=3.0.30->IPython->import_ipynb) (0.2.8)\n",
      "Requirement already satisfied: platformdirs>=2.5 in /Users/clairematheny/anaconda3/envs/ml-project-env/lib/python3.11/site-packages (from jupyter-core->nbformat->import_ipynb) (3.10.0)\n",
      "Requirement already satisfied: executing>=1.2.0 in /Users/clairematheny/anaconda3/envs/ml-project-env/lib/python3.11/site-packages (from stack-data->IPython->import_ipynb) (2.0.1)\n",
      "Requirement already satisfied: asttokens>=2.1.0 in /Users/clairematheny/anaconda3/envs/ml-project-env/lib/python3.11/site-packages (from stack-data->IPython->import_ipynb) (2.4.1)\n",
      "Requirement already satisfied: pure-eval in /Users/clairematheny/anaconda3/envs/ml-project-env/lib/python3.11/site-packages (from stack-data->IPython->import_ipynb) (0.2.2)\n",
      "Requirement already satisfied: six>=1.12.0 in /Users/clairematheny/anaconda3/envs/ml-project-env/lib/python3.11/site-packages (from asttokens>=2.1.0->stack-data->IPython->import_ipynb) (1.16.0)\n",
      "Note: you may need to restart the kernel to use updated packages.\n"
     ]
    }
   ],
   "source": [
    "import pandas as pd\n",
    "import seaborn as sns\n",
    "import numpy as np\n",
    "import matplotlib.pyplot as plt\n",
    "import tensorflow as tf\n",
    "from keras import models\n",
    "from keras import layers\n",
    "from keras.datasets import mnist\n",
    "from keras.utils import to_categorical\n",
    "from keras.models import Sequential\n",
    "from keras.layers import Dense, Conv2D, Flatten\n",
    "\n",
    "%pip install nbformat\n",
    "%pip install import_ipynb\n",
    "\n",
    "import import_ipynb\n",
    "import DataCleaning\n",
    "\n"
   ]
  },
  {
   "cell_type": "code",
   "execution_count": 7,
   "metadata": {},
   "outputs": [],
   "source": [
    "modelGRAY = models.Sequential()\n",
    "# STANDARD LAYERING TECHNIQUE:\n",
    "modelGRAY.add(layers.Conv2D(32, (3, 3), activation='relu', input_shape=(32,32,1)))\n",
    "#32 32 1 FOR DEPTH FOR GRAY - SHOULD BE THREE FOR RGB\n",
    "modelGRAY.add(layers.MaxPooling2D((2, 2)))\n",
    "modelGRAY.add(layers.Conv2D(64, (3, 3), activation='relu'))\n",
    "modelGRAY.add(layers.MaxPooling2D((2, 2)))\n",
    "modelGRAY.add(layers.Conv2D(64, (3, 3), activation='relu'))\n",
    "\n",
    "modelRGB = models.Sequential()\n",
    "# STANDARD LAYERING TECHNIQUE:\n",
    "modelRGB.add(layers.Conv2D(32, (3, 3), activation='relu', input_shape=(32,32,3)))\n",
    "#32 32 1 FOR DEPTH FOR GRAY - SHOULD BE THREE FOR RGB\n",
    "modelRGB.add(layers.MaxPooling2D((2, 2)))\n",
    "modelRGB.add(layers.Conv2D(64, (3, 3), activation='relu'))\n",
    "modelRGB.add(layers.MaxPooling2D((2, 2)))\n",
    "modelRGB.add(layers.Conv2D(64, (3, 3), activation='relu'))"
   ]
  },
  {
   "cell_type": "code",
   "execution_count": 8,
   "metadata": {},
   "outputs": [
    {
     "name": "stdout",
     "output_type": "stream",
     "text": [
      "Model: \"sequential_2\"\n",
      "_________________________________________________________________\n",
      " Layer (type)                Output Shape              Param #   \n",
      "=================================================================\n",
      " conv2d_6 (Conv2D)           (None, 30, 30, 32)        320       \n",
      "                                                                 \n",
      " max_pooling2d_4 (MaxPooling  (None, 15, 15, 32)       0         \n",
      " 2D)                                                             \n",
      "                                                                 \n",
      " conv2d_7 (Conv2D)           (None, 13, 13, 64)        18496     \n",
      "                                                                 \n",
      " max_pooling2d_5 (MaxPooling  (None, 6, 6, 64)         0         \n",
      " 2D)                                                             \n",
      "                                                                 \n",
      " conv2d_8 (Conv2D)           (None, 4, 4, 64)          36928     \n",
      "                                                                 \n",
      "=================================================================\n",
      "Total params: 55,744\n",
      "Trainable params: 55,744\n",
      "Non-trainable params: 0\n",
      "_________________________________________________________________\n",
      "Model: \"sequential_3\"\n",
      "_________________________________________________________________\n",
      " Layer (type)                Output Shape              Param #   \n",
      "=================================================================\n",
      " conv2d_9 (Conv2D)           (None, 30, 30, 32)        896       \n",
      "                                                                 \n",
      " max_pooling2d_6 (MaxPooling  (None, 15, 15, 32)       0         \n",
      " 2D)                                                             \n",
      "                                                                 \n",
      " conv2d_10 (Conv2D)          (None, 13, 13, 64)        18496     \n",
      "                                                                 \n",
      " max_pooling2d_7 (MaxPooling  (None, 6, 6, 64)         0         \n",
      " 2D)                                                             \n",
      "                                                                 \n",
      " conv2d_11 (Conv2D)          (None, 4, 4, 64)          36928     \n",
      "                                                                 \n",
      "=================================================================\n",
      "Total params: 56,320\n",
      "Trainable params: 56,320\n",
      "Non-trainable params: 0\n",
      "_________________________________________________________________\n"
     ]
    }
   ],
   "source": [
    "modelGRAY.summary()\n",
    "modelRGB.summary()"
   ]
  },
  {
   "cell_type": "code",
   "execution_count": 9,
   "metadata": {},
   "outputs": [],
   "source": [
    "modelGRAY.add(layers.Flatten())\n",
    "modelGRAY.add(layers.Dense(64, activation='relu'))\n",
    "modelGRAY.add(layers.Dense(10))\n",
    "\n",
    "modelRGB.add(layers.Flatten())\n",
    "modelRGB.add(layers.Dense(64, activation='relu'))\n",
    "modelRGB.add(layers.Dense(10))"
   ]
  },
  {
   "cell_type": "code",
   "execution_count": 10,
   "metadata": {},
   "outputs": [
    {
     "name": "stdout",
     "output_type": "stream",
     "text": [
      "Epoch 1/5\n"
     ]
    },
    {
     "name": "stderr",
     "output_type": "stream",
     "text": [
      "2023-11-02 13:33:52.191883: I tensorflow/core/common_runtime/executor.cc:1197] [/device:CPU:0] (DEBUG INFO) Executor start aborting (this does not indicate an error and you can ignore this message): INVALID_ARGUMENT: You must feed a value for placeholder tensor 'Placeholder/_0' with dtype int32\n",
      "\t [[{{node Placeholder/_0}}]]\n"
     ]
    },
    {
     "name": "stdout",
     "output_type": "stream",
     "text": [
      "3124/3125 [============================>.] - ETA: 0s - loss: 0.5546 - accuracy: 0.7131"
     ]
    },
    {
     "name": "stderr",
     "output_type": "stream",
     "text": [
      "2023-11-02 13:35:31.195335: I tensorflow/core/common_runtime/executor.cc:1197] [/device:CPU:0] (DEBUG INFO) Executor start aborting (this does not indicate an error and you can ignore this message): INVALID_ARGUMENT: You must feed a value for placeholder tensor 'Placeholder/_0' with dtype int32\n",
      "\t [[{{node Placeholder/_0}}]]\n"
     ]
    },
    {
     "name": "stdout",
     "output_type": "stream",
     "text": [
      "3125/3125 [==============================] - 116s 37ms/step - loss: 0.5545 - accuracy: 0.7132 - val_loss: 0.5415 - val_accuracy: 0.7359\n",
      "Epoch 2/5\n",
      "3125/3125 [==============================] - 117s 37ms/step - loss: 0.3721 - accuracy: 0.8381 - val_loss: 0.3148 - val_accuracy: 0.8659\n",
      "Epoch 3/5\n",
      "3125/3125 [==============================] - 123s 39ms/step - loss: 0.2947 - accuracy: 0.8761 - val_loss: 0.2519 - val_accuracy: 0.8973\n",
      "Epoch 4/5\n",
      "3125/3125 [==============================] - 112s 36ms/step - loss: 0.2570 - accuracy: 0.8949 - val_loss: 0.2864 - val_accuracy: 0.8801\n",
      "Epoch 5/5\n",
      "3125/3125 [==============================] - 103s 33ms/step - loss: 0.2323 - accuracy: 0.9049 - val_loss: 0.2154 - val_accuracy: 0.9118\n",
      "Epoch 1/5\n"
     ]
    },
    {
     "name": "stderr",
     "output_type": "stream",
     "text": [
      "2023-11-02 13:43:23.115470: I tensorflow/core/common_runtime/executor.cc:1197] [/device:CPU:0] (DEBUG INFO) Executor start aborting (this does not indicate an error and you can ignore this message): INVALID_ARGUMENT: You must feed a value for placeholder tensor 'Placeholder/_0' with dtype int32\n",
      "\t [[{{node Placeholder/_0}}]]\n"
     ]
    },
    {
     "name": "stdout",
     "output_type": "stream",
     "text": [
      "3125/3125 [==============================] - ETA: 0s - loss: 0.5329 - accuracy: 0.7289"
     ]
    },
    {
     "name": "stderr",
     "output_type": "stream",
     "text": [
      "2023-11-02 13:44:59.405472: I tensorflow/core/common_runtime/executor.cc:1197] [/device:CPU:0] (DEBUG INFO) Executor start aborting (this does not indicate an error and you can ignore this message): INVALID_ARGUMENT: You must feed a value for placeholder tensor 'Placeholder/_0' with dtype int32\n",
      "\t [[{{node Placeholder/_0}}]]\n"
     ]
    },
    {
     "name": "stdout",
     "output_type": "stream",
     "text": [
      "3125/3125 [==============================] - 113s 36ms/step - loss: 0.5329 - accuracy: 0.7289 - val_loss: 0.3601 - val_accuracy: 0.8414\n",
      "Epoch 2/5\n",
      "3125/3125 [==============================] - 106s 34ms/step - loss: 0.3466 - accuracy: 0.8482 - val_loss: 0.2669 - val_accuracy: 0.8894\n",
      "Epoch 3/5\n",
      "3125/3125 [==============================] - 103s 33ms/step - loss: 0.2676 - accuracy: 0.8889 - val_loss: 0.2379 - val_accuracy: 0.9059\n",
      "Epoch 4/5\n",
      "3125/3125 [==============================] - 108s 35ms/step - loss: 0.2270 - accuracy: 0.9073 - val_loss: 0.2013 - val_accuracy: 0.9198\n",
      "Epoch 5/5\n",
      "3125/3125 [==============================] - 151s 48ms/step - loss: 0.2007 - accuracy: 0.9197 - val_loss: 0.2229 - val_accuracy: 0.9112\n"
     ]
    }
   ],
   "source": [
    "modelGRAY.compile(optimizer='adam', loss=tf.keras.losses.SparseCategoricalCrossentropy(from_logits=True),\n",
    "              metrics=['accuracy'])\n",
    "\n",
    "#DEPTH FRO GRAYSCALE WILL BE ONE AND THREE FOR RGB\n",
    "history_gray = modelGRAY.fit(DataCleaning.TRAIN_GENERATOR_GRAY, epochs=5, validation_data=DataCleaning.TEST_GENERATOR_GRAY)\n",
    "\n",
    "modelRGB.compile(optimizer='adam', loss=tf.keras.losses.SparseCategoricalCrossentropy(from_logits=True),\n",
    "              metrics=['accuracy'])\n",
    "\n",
    "#DEPTH FRO GRAYSCALE WILL BE ONE AND THREE FOR RGB\n",
    "history_rgb = modelRGB.fit(DataCleaning.TRAIN_GENERATOR_RGB, epochs=5, validation_data=DataCleaning.TEST_GENERATOR_RGB)"
   ]
  },
  {
   "cell_type": "code",
   "execution_count": 11,
   "metadata": {},
   "outputs": [
    {
     "name": "stderr",
     "output_type": "stream",
     "text": [
      "2023-11-02 14:12:17.472485: I tensorflow/core/common_runtime/executor.cc:1197] [/device:CPU:0] (DEBUG INFO) Executor start aborting (this does not indicate an error and you can ignore this message): INVALID_ARGUMENT: You must feed a value for placeholder tensor 'Placeholder/_0' with dtype int32\n",
      "\t [[{{node Placeholder/_0}}]]\n"
     ]
    },
    {
     "name": "stdout",
     "output_type": "stream",
     "text": [
      "625/625 - 12s - loss: 0.2229 - accuracy: 0.9112 - 12s/epoch - 20ms/step\n"
     ]
    },
    {
     "name": "stderr",
     "output_type": "stream",
     "text": [
      "2023-11-02 14:12:29.792858: I tensorflow/core/common_runtime/executor.cc:1197] [/device:CPU:0] (DEBUG INFO) Executor start aborting (this does not indicate an error and you can ignore this message): INVALID_ARGUMENT: You must feed a value for placeholder tensor 'Placeholder/_0' with dtype int32\n",
      "\t [[{{node Placeholder/_0}}]]\n"
     ]
    },
    {
     "name": "stdout",
     "output_type": "stream",
     "text": [
      "625/625 - 11s - loss: 0.2154 - accuracy: 0.9118 - 11s/epoch - 18ms/step\n"
     ]
    },
    {
     "data": {
      "image/png": "[encoded data removed]",
      "text/plain": [
       "<Figure size 640x480 with 1 Axes>"
      ]
     },
     "metadata": {},
     "output_type": "display_data"
    }
   ],
   "source": [
    "plt.plot(history_gray.history['accuracy'], label='GRAY_accuracy')\n",
    "plt.plot(history_gray.history['val_accuracy'], label = 'GRAY_val_accuracy')\n",
    "plt.plot(history_rgb.history['accuracy'], label='RBG_accuracy')\n",
    "plt.plot(history_rgb.history['val_accuracy'], label = 'RBG_val_accuracy')\n",
    "plt.xlabel('Epoch')\n",
    "plt.ylabel('Accuracy')\n",
    "plt.ylim([0.5, 1])\n",
    "plt.legend(loc='lower right')\n",
    "\n",
    "test_rgb_loss, test_rgb_acc = modelRGB.evaluate(DataCleaning.TEST_GENERATOR_RGB, verbose=2)\n",
    "test_gray_loss, test_gray_acc = modelGRAY.evaluate(DataCleaning.TEST_GENERATOR_GRAY, verbose=2)"
   ]
  },
  {
   "cell_type": "code",
   "execution_count": 12,
   "metadata": {},
   "outputs": [
    {
     "name": "stdout",
     "output_type": "stream",
     "text": [
      "0.9117500185966492\n",
      "0.9112499952316284\n"
     ]
    }
   ],
   "source": [
    "print(test_gray_acc)\n",
    "print(test_rgb_acc)"
   ]
  }
 ],
 "metadata": {
  "kernelspec": {
   "display_name": "ml-project-env",
   "language": "python",
   "name": "python3"
  },
  "language_info": {
   "codemirror_mode": {
    "name": "ipython",
    "version": 3
   },
   "file_extension": ".py",
   "mimetype": "text/x-python",
   "name": "python",
   "nbconvert_exporter": "python",
   "pygments_lexer": "ipython3",
   "version": "3.11.5"
  },
  "orig_nbformat": 4,
  "vscode": {
   "interpreter": {
    "hash": "a6d08cd0af255144084c0e91e12b63a672c106a117aa0741550e202413ac907d"
   }
  }
 },
 "nbformat": 4,
 "nbformat_minor": 2
}
